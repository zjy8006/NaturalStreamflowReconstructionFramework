{
 "cells": [
  {
   "cell_type": "code",
   "execution_count": 1,
   "metadata": {},
   "outputs": [],
   "source": [
    "import pandas as pd\n",
    "import calendar\n"
   ]
  },
  {
   "cell_type": "code",
   "execution_count": 44,
   "metadata": {},
   "outputs": [],
   "source": [
    "def Get_days_from_month(date):\n",
    "    year = date.year\n",
    "    month = date.month\n",
    "    # year, month, day = map(int, date.split('-'))\n",
    "\n",
    "    # 获取该月的天数\n",
    "    days_in_month = calendar.monthrange(year, month)[1]\n",
    "\n",
    "    return days_in_month"
   ]
  },
  {
   "cell_type": "code",
   "execution_count": 45,
   "metadata": {},
   "outputs": [],
   "source": [
    "guide_monthly_flow = pd.read_excel('H:/DataSpace/guide_monthflow1950-2018.xls')\n",
    "# remove 站名 column\n",
    "guide_monthly_flow = guide_monthly_flow.drop('站名', axis=1)\n",
    "# rename the dates column name to DATE\n",
    "guide_monthly_flow.columns = ['date', 'flow(m^3/s)']\n",
    "guide_monthly_flow.to_csv('../data/guide_monthly_flow.csv', index=False)\n",
    "guide_monthly_flow['days'] = guide_monthly_flow['date'].apply(Get_days_from_month)\n",
    "guide_monthly_flow['runoff(10^8m^3)'] = guide_monthly_flow['flow(m^3/s)']*guide_monthly_flow['days']*24*3600/100000000\n",
    "guide_annual_runoff = guide_monthly_flow.loc[:,['date','runoff(10^8m^3)']]\n",
    "guide_annual_runoff['date']=pd.to_datetime(guide_annual_runoff['date'])\n",
    "guide_annual_runoff.set_index('date',inplace=True)\n",
    "guide_annual_runoff = guide_annual_runoff.resample('YE').sum()\n",
    "guide_annual_runoff.to_csv('../data/guide_annual_runoff.csv')"
   ]
  },
  {
   "cell_type": "code",
   "execution_count": 47,
   "metadata": {},
   "outputs": [],
   "source": [
    "tangnaihai_monthly_flow = pd.read_excel('H:/DataSpace/唐乃亥月径流1950-2018.xls')\n",
    "tangnaihai_monthly_flow = tangnaihai_monthly_flow.iloc[:,1:3]\n",
    "tangnaihai_monthly_flow.columns = ['date','flow(m^3/s)']\n",
    "tangnaihai_monthly_flow.to_csv('../data/tangnaihai_monthly_flow.csv',index=False)\n",
    "tangnaihai_monthly_flow['days'] = tangnaihai_monthly_flow['date'].apply(Get_days_from_month)\n",
    "tangnaihai_monthly_flow['runoff(10^8m^3)'] = tangnaihai_monthly_flow['flow(m^3/s)']*tangnaihai_monthly_flow['days']*24*3600/100000000\n",
    "tangnaihai_annual_runoff = tangnaihai_monthly_flow.loc[:,['date','runoff(10^8m^3)']]\n",
    "tangnaihai_annual_runoff['date']=pd.to_datetime(tangnaihai_annual_runoff['date'])\n",
    "tangnaihai_annual_runoff.set_index('date',inplace=True)\n",
    "tangnaihai_annual_runoff = tangnaihai_annual_runoff.resample('YE').sum()\n",
    "tangnaihai_annual_runoff.to_csv('../data/tangnaihai_annual_runoff.csv')\n"
   ]
  },
  {
   "cell_type": "code",
   "execution_count": 48,
   "metadata": {},
   "outputs": [],
   "source": [
    "xunhua_monthly_flow = pd.read_excel('H:/DataSpace/循化站月径流1957-2018.xls')\n",
    "xunhua_monthly_flow = xunhua_monthly_flow.iloc[:,1:3]\n",
    "xunhua_monthly_flow.columns = ['date','flow(m^3/s)']\n",
    "xunhua_monthly_flow.to_csv('../data/xunhua_monthly_flow.csv',index=False)\n",
    "xunhua_monthly_flow['days'] = xunhua_monthly_flow['date'].apply(Get_days_from_month)\n",
    "xunhua_monthly_flow['runoff(10^8m^3)'] = xunhua_monthly_flow['flow(m^3/s)']*xunhua_monthly_flow['days']*24*3600/100000000\n",
    "xunhua_annual_runoff = xunhua_monthly_flow.loc[:,['date','runoff(10^8m^3)']]\n",
    "xunhua_annual_runoff['date']=pd.to_datetime(xunhua_annual_runoff['date'])\n",
    "xunhua_annual_runoff.set_index('date',inplace=True)\n",
    "xunhua_annual_runoff = xunhua_annual_runoff.resample('YE').sum()\n",
    "xunhua_annual_runoff.to_csv('../data/xunhua_annual_runoff.csv')"
   ]
  },
  {
   "cell_type": "code",
   "execution_count": 7,
   "metadata": {},
   "outputs": [],
   "source": [
    "guide_natural = pd.read_excel('H:/连亚妮论文数据/第三章/贵德站多种方法还原结果对比.xls',sheet_name='月径流还原结果',parse_dates=['dates'],index_col='dates')\n",
    "xunhua_natural = pd.read_excel('H:/连亚妮论文数据/第三章/循化站多种方法还原结果对比.xls',sheet_name='月径流还原结果',parse_dates=['dates'],index_col='dates')\n",
    "\n",
    "guide_natural.columns = ['flow','VIF-MLR','VIF-LSTM']                      \n",
    "xunhua_natural.columns = ['flow','VIF-MLR','VIF-LSTM']\n",
    "\n",
    "guide_natural.index.name = 'date'\n",
    "\n",
    "xunhua_natural.index.name = 'date'\n",
    "\n",
    "guide_natural.to_csv('../data/guide_naturalized_monthly_flow.csv')\n",
    "xunhua_natural.to_csv('../data/xunhua_naturalized_monthly_flow.csv')\n"
   ]
  },
  {
   "cell_type": "code",
   "execution_count": 1,
   "metadata": {
    "metadata": {}
   },
   "outputs": [],
   "source": [
    "import pandas as pd\n",
    "start = '1957-01-01'\n",
    "end = '2018-12-31'\n",
    "\n",
    "date_index = pd.date_range(start, end, freq='ME')\n",
    "\n",
    "era5l_guide = pd.read_csv('../data/guide_era5l_month1957-2019.csv',parse_dates=['date'],index_col='date')\n",
    "era5l_guide = era5l_guide.loc[start:end,['v10','snowc','sd','ssro']]\n",
    "era5l_guide.set_index(date_index,inplace=True)\n",
    "\n",
    "mete_guide_guide = pd.read_csv('../data/guide_monthly_mete.csv',parse_dates=['DATE'],index_col='DATE')\n",
    "mete_guide_guide = mete_guide_guide.loc[start:end,['P208(mm)','P820(mm)']]\n",
    "mete_guide_guide.columns=['P208_gd','P820_gd']\n",
    "mete_guide_guide.set_index(date_index,inplace=True) \n",
    "mete_guide_guide.index.name='date'\n",
    "\n",
    "mete_guide_gonghe = pd.read_csv('../data/gonghe_monthly_mete.csv',parse_dates=['DATE'],index_col='DATE')\n",
    "mete_guide_gonghe = mete_guide_gonghe.loc[start:end,['P820(mm)']]\n",
    "mete_guide_gonghe.columns=['P820_gh']\n",
    "mete_guide_gonghe.set_index(date_index,inplace=True) \n",
    "mete_guide_gonghe.index.name='date'\n",
    "\n",
    "tnhIN_guide = pd.read_csv('../data/tangnaihai_monthly_flow.csv',parse_dates=['date'],index_col='date')\n",
    "tnhIN_guide = tnhIN_guide.loc[start:end]\n",
    "tnhIN_guide.set_index(date_index,inplace=True) \n",
    "tnhIN_guide.columns=['tnh_flow']\n",
    "\n",
    "guide = pd.read_csv('../data/guide_monthly_flow.csv',parse_dates=['date'],index_col='date')\n",
    "guide = guide.loc[start:end]\n",
    "guide.set_index(date_index,inplace=True) \n",
    "guide.columns=['flow']\n",
    "\n",
    "full_data_guide = pd.concat([era5l_guide,mete_guide_guide,mete_guide_gonghe,tnhIN_guide,guide],axis=1)\n",
    "full_data_guide.index.name='date'\n",
    "full_data_guide.to_csv('../data/full_modeling_data_guide.csv')"
   ]
  },
  {
   "cell_type": "code",
   "execution_count": 12,
   "metadata": {
    "metadata": {}
   },
   "outputs": [],
   "source": [
    "import pandas as pd\n",
    "start = '1957-01-01'\n",
    "end = '2018-12-31'\n",
    "\n",
    "date_index = pd.date_range(start, end, freq='ME')\n",
    "\n",
    "era5l_xunhua = pd.read_csv('../data/xunhua_era5l_month1957-2019.csv')\n",
    "era5l_xunhua.index = pd.date_range('1957-01-01','2019-12-31',freq='ME')\n",
    "era5l_xunhua = era5l_xunhua.loc[start:end,['v10','sd','ssro','sro','smlt']]\n",
    "era5l_xunhua.set_index(date_index,inplace=True)\n",
    "\n",
    "mete_xunhua_guide = pd.read_csv('../data/guide_monthly_mete.csv',parse_dates=['DATE'],index_col='DATE')\n",
    "mete_xunhua_guide = mete_xunhua_guide.loc[start:end,['P208(mm)','P820(mm)']]\n",
    "mete_xunhua_guide.columns=['P208_gd','P820_gd']\n",
    "mete_xunhua_guide.set_index(date_index,inplace=True) \n",
    "mete_xunhua_guide.index.name='date'\n",
    "\n",
    "mete_xunhua_gonghe = pd.read_csv('../data/gonghe_monthly_mete.csv',parse_dates=['DATE'],index_col='DATE')\n",
    "mete_xunhua_gonghe = mete_xunhua_gonghe.loc[start:end,['P820(mm)']]\n",
    "mete_xunhua_gonghe.columns=['P820_gh']\n",
    "mete_xunhua_gonghe.set_index(date_index,inplace=True) \n",
    "mete_xunhua_gonghe.index.name='date'\n",
    "\n",
    "gdIN_xunhua_pre = pd.read_csv('../data/guide_monthly_flow.csv',parse_dates=['date'],index_col='date')\n",
    "gdIN_xunhua_pre = gdIN_xunhua_pre.loc['1957-01-01':'1985-12-31']\n",
    "gdIN_xunhua_pre.set_index(pd.date_range('1957-01-01','1985-12-31',freq='ME'),inplace=True) \n",
    "gdIN_xunhua_pre.columns=['gd_flow']\n",
    "gdIN_xunhua_infl = pd.read_csv('../data/guide_monthly_naturalized_flow_viflstm.csv',parse_dates=['date'],index_col='date')\n",
    "gdIN_xunhua_infl = gdIN_xunhua_infl.loc['1986-01-01':'2018-12-31']\n",
    "gdIN_xunhua_infl = gdIN_xunhua_infl['VIF_LSTM']\n",
    "gdIN_xunhua_infl.name= 'gd_flow'\n",
    "gdIn_xunhua = pd.concat([gdIN_xunhua_pre,gdIN_xunhua_infl],axis=0) \n",
    "gdIn_xunhua\n",
    "\n",
    "\n",
    "tnhIN_xunhua = pd.read_csv('../data/tangnaihai_monthly_flow.csv',parse_dates=['date'],index_col='date')\n",
    "tnhIN_xunhua = tnhIN_xunhua.loc[start:end]\n",
    "tnhIN_xunhua.set_index(date_index,inplace=True) \n",
    "tnhIN_xunhua.columns=['tnh_flow']\n",
    "\n",
    "xunhua = pd.read_csv('../data/xunhua_monthly_flow.csv',parse_dates=['date'],index_col='date')\n",
    "xunhua = xunhua.loc[start:end]\n",
    "xunhua.set_index(date_index,inplace=True) \n",
    "xunhua.columns=['flow']\n",
    "\n",
    "full_data_xunhua = pd.concat([era5l_xunhua,mete_xunhua_guide,mete_xunhua_gonghe,tnhIN_xunhua,xunhua],axis=1)\n",
    "full_data_xunhua.index.name='date'\n",
    "full_data_xunhua\n",
    "full_data_xunhua.to_csv('../data/full_modeling_data_xunhua.csv')"
   ]
  },
  {
   "cell_type": "code",
   "execution_count": null,
   "metadata": {},
   "outputs": [],
   "source": []
  }
 ],
 "metadata": {
  "kernelspec": {
   "display_name": "base",
   "language": "python",
   "name": "python3"
  },
  "language_info": {
   "codemirror_mode": {
    "name": "ipython",
    "version": 3
   },
   "file_extension": ".py",
   "mimetype": "text/x-python",
   "name": "python",
   "nbconvert_exporter": "python",
   "pygments_lexer": "ipython3",
   "version": "3.12.3"
  }
 },
 "nbformat": 4,
 "nbformat_minor": 2
}
